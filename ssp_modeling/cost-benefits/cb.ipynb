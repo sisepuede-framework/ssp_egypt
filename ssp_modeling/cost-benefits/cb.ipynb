{
 "cells": [
  {
   "cell_type": "code",
   "execution_count": 30,
   "id": "9e102084",
   "metadata": {},
   "outputs": [],
   "source": [
    "## Load packages\n",
    "from costs_benefits_ssp.cb_calculate import CostBenefits\n",
    "import pandas as pd\n",
    "from costs_benefits_ssp.model.cb_data_model import TXTable,CostFactor,TransformationCost,StrategyInteraction\n",
    "import polars as pl\n",
    "import os"
   ]
  },
  {
   "cell_type": "code",
   "execution_count": 39,
   "id": "d1b526e1",
   "metadata": {},
   "outputs": [],
   "source": [
    "##---- Define Directories ----##\n",
    "SCRIPT_DIR_PATH = os.getcwd()\n",
    "PARENT_DIR_PATH = os.path.dirname(SCRIPT_DIR_PATH)\n",
    "OUTPUT_CB_PATH = os.path.join(SCRIPT_DIR_PATH, \"output\")\n",
    "CONFIG_DIR_PATH = os.path.join(SCRIPT_DIR_PATH, \"cb_config_files\")\n",
    "RUN_OUTPUT_DIR_PATH = os.path.join(PARENT_DIR_PATH, \"ssp_run_output\")\n",
    "RUN_ID = \"2025-09-23T18;29;45.187519\"\n",
    "RUN_DIR_PATH = os.path.join(RUN_OUTPUT_DIR_PATH, f\"sisepuede_results_sisepuede_run_{RUN_ID}\")\n"
   ]
  },
  {
   "cell_type": "code",
   "execution_count": 32,
   "id": "9915832e",
   "metadata": {},
   "outputs": [],
   "source": [
    "# Make sure output directory exists\n",
    "os.makedirs(OUTPUT_CB_PATH, exist_ok=True)"
   ]
  },
  {
   "cell_type": "code",
   "execution_count": 33,
   "id": "4e7b05b0",
   "metadata": {},
   "outputs": [
    {
     "name": "stdout",
     "output_type": "stream",
     "text": [
      "Loaded ssp_data with 98 rows and 4054 columns\n",
      "Loaded att_primary with 2 rows and 4 columns\n",
      "Loaded att_strategy with 74 rows and 6 columns\n"
     ]
    }
   ],
   "source": [
    "## Load the data\n",
    "ssp_data = pd.read_csv(os.path.join(RUN_DIR_PATH, \n",
    "                                    \"decomposed_ssp_output.csv\"))\n",
    "att_primary = pd.read_csv(os.path.join(RUN_DIR_PATH, \"ATTRIBUTE_PRIMARY.csv\"))\n",
    "att_strategy = pd.read_csv(os.path.join(RUN_DIR_PATH, \"ATTRIBUTE_STRATEGY.csv\"))\n",
    "print(f\"Loaded ssp_data with {ssp_data.shape[0]} rows and {ssp_data.shape[1]} columns\")\n",
    "print(f\"Loaded att_primary with {att_primary.shape[0]} rows and {att_primary.shape[1]} columns\")\n",
    "print(f\"Loaded att_strategy with {att_strategy.shape[0]} rows and {att_strategy.shape[1]} columns\")"
   ]
  },
  {
   "cell_type": "code",
   "execution_count": 34,
   "id": "9004b670",
   "metadata": {},
   "outputs": [],
   "source": [
    "## Define base strategy\n",
    "strategy_code_base = \"BASE\""
   ]
  },
  {
   "cell_type": "code",
   "execution_count": 35,
   "id": "bf93ee15",
   "metadata": {},
   "outputs": [],
   "source": [
    "# Check if strategy_code_base exists in att_strategy\n",
    "if strategy_code_base not in att_strategy['strategy_code'].values:\n",
    "    raise ValueError(f\"Base strategy code '{strategy_code_base}' not found in att_strategy.\")"
   ]
  },
  {
   "cell_type": "code",
   "execution_count": 36,
   "id": "121944e9",
   "metadata": {},
   "outputs": [
    {
     "name": "stdout",
     "output_type": "stream",
     "text": [
      "The TX TX:LNDU:BOUND_CLASSES is missing on AttTransformationCode\n",
      "The TX TX:LNDU:DEC_CLASS_LOSS is missing on AttTransformationCode\n",
      "The TX TX:LNDU:BOUND_CLASSES is missing on AttTransformationCode\n",
      "The TX TX:LNDU:DEC_CLASS_LOSS is missing on AttTransformationCode\n",
      "The TX TX:ENFU:ADJ_EXPORTS is missing on AttTransformationCode\n",
      "The TX TX:ENFU:ADJ_EXPORTS is missing on AttTransformationCode\n",
      "The TX TX:ENFU:ADJ_EXPORTS is missing on AttTransformationCode\n",
      "The TX TX:LNDU:BOUND_CLASSES is missing on AttTransformationCode\n",
      "The TX TX:LNDU:DEC_CLASS_LOSS is missing on AttTransformationCode\n"
     ]
    }
   ],
   "source": [
    "## Instantiate an object of the CostBenefits class\n",
    "cb = CostBenefits(ssp_data, att_primary, att_strategy, strategy_code_base)"
   ]
  },
  {
   "cell_type": "code",
   "execution_count": 42,
   "id": "1db8b2a8",
   "metadata": {},
   "outputs": [],
   "source": [
    "# Once the excel file has been updated, we can reload it to update the cost factors database\n",
    "cb.load_cb_parameters(os.path.join(CONFIG_DIR_PATH, \"cb_config_params.xlsx\"))"
   ]
  },
  {
   "cell_type": "code",
   "execution_count": 43,
   "id": "bc236235",
   "metadata": {},
   "outputs": [
    {
     "name": "stdout",
     "output_type": "stream",
     "text": [
      "\n",
      "************************************\n",
      "*Strategy : PFLO:ALL (0/1)\n",
      "************************************\n",
      "\n"
     ]
    }
   ],
   "source": [
    "# Compute System Costs\n",
    "results_system = cb.compute_system_cost_for_all_strategies(verbose=False)"
   ]
  },
  {
   "cell_type": "code",
   "execution_count": 44,
   "id": "e6925fdf",
   "metadata": {},
   "outputs": [
    {
     "name": "stdout",
     "output_type": "stream",
     "text": [
      "\n",
      "************************************\n",
      "*Strategy : PFLO:ALL (0/1)\n",
      "************************************\n",
      "\n",
      "La variable se evalúa en Transformation Cost\n",
      "La variable se evalúa en Transformation Cost\n",
      "La variable se evalúa en Transformation Cost\n",
      "La variable se evalúa en Transformation Cost\n",
      "La variable se evalúa en Transformation Cost\n",
      "La variable se evalúa en Transformation Cost\n",
      "La variable se evalúa en Transformation Cost\n",
      "La variable se evalúa en Transformation Cost\n",
      "La variable se evalúa en Transformation Cost\n",
      "La variable se evalúa en Transformation Cost\n",
      "La variable se evalúa en Transformation Cost\n",
      "La variable se evalúa en Transformation Cost\n",
      "La variable se evalúa en Transformation Cost\n",
      "La variable se evalúa en Transformation Cost\n",
      "La variable se evalúa en Transformation Cost\n",
      "La variable se evalúa en Transformation Cost\n",
      "La variable se evalúa en Transformation Cost\n",
      "La variable se evalúa en Transformation Cost\n",
      "La variable se evalúa en Transformation Cost\n",
      "La variable se evalúa en Transformation Cost\n",
      "La variable se evalúa en Transformation Cost\n",
      "La variable se evalúa en Transformation Cost\n",
      "La variable se evalúa en Transformation Cost\n",
      "La variable se evalúa en Transformation Cost\n",
      "La variable se evalúa en Transformation Cost\n",
      "La variable se evalúa en Transformation Cost\n"
     ]
    },
    {
     "name": "stderr",
     "output_type": "stream",
     "text": [
      "/opt/miniconda3/envs/ssp_egypt_env/lib/python3.11/site-packages/costs_benefits_ssp/cb_calculate.py:856: SettingWithCopyWarning: \n",
      "A value is trying to be set on a copy of a slice from a DataFrame.\n",
      "Try using .loc[row_indexer,col_indexer] = value instead\n",
      "\n",
      "See the caveats in the documentation: https://pandas.pydata.org/pandas-docs/stable/user_guide/indexing.html#returning-a-view-versus-a-copy\n",
      "  tmp[\"difference_variable\"] = cb_orm.diff_var\n",
      "/opt/miniconda3/envs/ssp_egypt_env/lib/python3.11/site-packages/costs_benefits_ssp/cb_calculate.py:857: SettingWithCopyWarning: \n",
      "A value is trying to be set on a copy of a slice from a DataFrame.\n",
      "Try using .loc[row_indexer,col_indexer] = value instead\n",
      "\n",
      "See the caveats in the documentation: https://pandas.pydata.org/pandas-docs/stable/user_guide/indexing.html#returning-a-view-versus-a-copy\n",
      "  tmp[\"difference_value\"] = data_merged[\"difference\"]\n",
      "/opt/miniconda3/envs/ssp_egypt_env/lib/python3.11/site-packages/costs_benefits_ssp/cb_calculate.py:858: SettingWithCopyWarning: \n",
      "A value is trying to be set on a copy of a slice from a DataFrame.\n",
      "Try using .loc[row_indexer,col_indexer] = value instead\n",
      "\n",
      "See the caveats in the documentation: https://pandas.pydata.org/pandas-docs/stable/user_guide/indexing.html#returning-a-view-versus-a-copy\n",
      "  tmp[\"variable\"] = cb_orm.output_variable_name\n",
      "/opt/miniconda3/envs/ssp_egypt_env/lib/python3.11/site-packages/costs_benefits_ssp/cb_calculate.py:859: SettingWithCopyWarning: \n",
      "A value is trying to be set on a copy of a slice from a DataFrame.\n",
      "Try using .loc[row_indexer,col_indexer] = value instead\n",
      "\n",
      "See the caveats in the documentation: https://pandas.pydata.org/pandas-docs/stable/user_guide/indexing.html#returning-a-view-versus-a-copy\n",
      "  tmp[\"value\"] = data_merged[\"values\"]\n",
      "/opt/miniconda3/envs/ssp_egypt_env/lib/python3.11/site-packages/costs_benefits_ssp/cb_calculate.py:863: SettingWithCopyWarning: \n",
      "A value is trying to be set on a copy of a slice from a DataFrame.\n",
      "Try using .loc[row_indexer,col_indexer] = value instead\n",
      "\n",
      "See the caveats in the documentation: https://pandas.pydata.org/pandas-docs/stable/user_guide/indexing.html#returning-a-view-versus-a-copy\n",
      "  tmp['variable_value_baseline'] = 0\n",
      "/opt/miniconda3/envs/ssp_egypt_env/lib/python3.11/site-packages/costs_benefits_ssp/cb_calculate.py:1067: SettingWithCopyWarning: \n",
      "A value is trying to be set on a copy of a slice from a DataFrame.\n",
      "Try using .loc[row_indexer,col_indexer] = value instead\n",
      "\n",
      "See the caveats in the documentation: https://pandas.pydata.org/pandas-docs/stable/user_guide/indexing.html#returning-a-view-versus-a-copy\n",
      "  data_output['variable_value_baseline'] = 0\n",
      "/opt/miniconda3/envs/ssp_egypt_env/lib/python3.11/site-packages/costs_benefits_ssp/cb_calculate.py:1070: SettingWithCopyWarning: \n",
      "A value is trying to be set on a copy of a slice from a DataFrame.\n",
      "Try using .loc[row_indexer,col_indexer] = value instead\n",
      "\n",
      "See the caveats in the documentation: https://pandas.pydata.org/pandas-docs/stable/user_guide/indexing.html#returning-a-view-versus-a-copy\n",
      "  data_output['variable_value_pathway'] = data_merged[\"difference_value\"]\n"
     ]
    },
    {
     "name": "stdout",
     "output_type": "stream",
     "text": [
      "La variable se evalúa en Transformation Cost\n",
      "La variable se evalúa en Transformation Cost\n",
      "La variable se evalúa en Transformation Cost\n",
      "La variable se evalúa en Transformation Cost\n",
      "La variable se evalúa en Transformation Cost\n",
      "La variable se evalúa en Transformation Cost\n",
      "La variable se evalúa en Transformation Cost\n",
      "La variable se evalúa en Transformation Cost\n",
      "La variable se evalúa en Transformation Cost\n",
      "La variable se evalúa en Transformation Cost\n",
      "La variable se evalúa en Transformation Cost\n",
      "La variable se evalúa en Transformation Cost\n",
      "La variable se evalúa en Transformation Cost\n",
      "La variable se evalúa en Transformation Cost\n",
      "La variable se evalúa en Transformation Cost\n",
      "La variable se evalúa en Transformation Cost\n",
      "La variable se evalúa en Transformation Cost\n",
      "La variable se evalúa en Transformation Cost\n",
      "La variable se evalúa en Transformation Cost\n",
      "La variable se evalúa en Transformation Cost\n"
     ]
    }
   ],
   "source": [
    "# Compute Technical Costs\n",
    "results_tx = cb.compute_technical_cost_for_all_strategies(verbose=False)"
   ]
  },
  {
   "cell_type": "code",
   "execution_count": 45,
   "id": "8157dd4c",
   "metadata": {},
   "outputs": [],
   "source": [
    "# Combine results\n",
    "results_all = pd.concat([results_system, results_tx], ignore_index = True)"
   ]
  },
  {
   "cell_type": "code",
   "execution_count": 46,
   "id": "ed4d0b75",
   "metadata": {},
   "outputs": [
    {
     "name": "stdout",
     "output_type": "stream",
     "text": [
      "Resolving Interactions in SCOE : TX:SCOE:INC_EFFICIENCY_APPLIANCE, TX:SCOE:SHIFT_FUEL_HEAT, TX:SCOE:SHIFT_FUEL_HEAT, TX:SCOE:DEC_DEMAND_HEAT \n",
      "Resolving Interactions in INEN : TX:INEN:SHIFT_FUEL_HEAT, TX:INEN:SHIFT_FUEL_HEAT, TX:INEN:SHIFT_FUEL_HEAT, TX:INEN:SHIFT_FUEL_HEAT, TX:INEN:SHIFT_FUEL_HEAT, TX:INEN:SHIFT_FUEL_HEAT, TX:INEN:INC_EFFICIENCY_ENERGY \n"
     ]
    },
    {
     "name": "stderr",
     "output_type": "stream",
     "text": [
      "/opt/miniconda3/envs/ssp_egypt_env/lib/python3.11/site-packages/costs_benefits_ssp/cb_calculate.py:660: SettingWithCopyWarning: \n",
      "A value is trying to be set on a copy of a slice from a DataFrame.\n",
      "Try using .loc[row_indexer,col_indexer] = value instead\n",
      "\n",
      "See the caveats in the documentation: https://pandas.pydata.org/pandas-docs/stable/user_guide/indexing.html#returning-a-view-versus-a-copy\n",
      "  res_pre2025[\"variable\"] = res_pre2025[\"variable\"] + \"_shifted\" + (res_pre2025[\"time_period\"]+SSP_GLOBAL_TIME_PERIOD_0).astype(str)#create a new variable so they can be recognized as shifted costs\n",
      "/opt/miniconda3/envs/ssp_egypt_env/lib/python3.11/site-packages/costs_benefits_ssp/cb_calculate.py:661: SettingWithCopyWarning: \n",
      "A value is trying to be set on a copy of a slice from a DataFrame.\n",
      "Try using .loc[row_indexer,col_indexer] = value instead\n",
      "\n",
      "See the caveats in the documentation: https://pandas.pydata.org/pandas-docs/stable/user_guide/indexing.html#returning-a-view-versus-a-copy\n",
      "  res_pre2025[\"time_period\"] = res_pre2025[\"time_period\"]+SSP_GLOBAL_TIME_PERIOD_TX_START #shift the time period\n"
     ]
    }
   ],
   "source": [
    "#-------------POST PROCESS SIMULATION RESULTS---------------\n",
    "# Post process interactions among strategies that affect the same variables\n",
    "results_all_pp = cb.cb_process_interactions(results_all)\n",
    "\n",
    "# SHIFT any stray costs incurred from 2015 to 2025 to 2025 and 2035\n",
    "results_all_pp_shifted = cb.cb_shift_costs(results_all_pp)\n"
   ]
  },
  {
   "cell_type": "code",
   "execution_count": 47,
   "id": "6fb7cca4",
   "metadata": {},
   "outputs": [
    {
     "data": {
      "text/html": [
       "<div>\n",
       "<style scoped>\n",
       "    .dataframe tbody tr th:only-of-type {\n",
       "        vertical-align: middle;\n",
       "    }\n",
       "\n",
       "    .dataframe tbody tr th {\n",
       "        vertical-align: top;\n",
       "    }\n",
       "\n",
       "    .dataframe thead th {\n",
       "        text-align: right;\n",
       "    }\n",
       "</style>\n",
       "<table border=\"1\" class=\"dataframe\">\n",
       "  <thead>\n",
       "    <tr style=\"text-align: right;\">\n",
       "      <th></th>\n",
       "      <th>strategy_code</th>\n",
       "      <th>future_id</th>\n",
       "      <th>region</th>\n",
       "      <th>time_period</th>\n",
       "      <th>difference_variable</th>\n",
       "      <th>variable_value_baseline</th>\n",
       "      <th>variable_value_pathway</th>\n",
       "      <th>difference_value</th>\n",
       "      <th>variable</th>\n",
       "      <th>value</th>\n",
       "    </tr>\n",
       "  </thead>\n",
       "  <tbody>\n",
       "    <tr>\n",
       "      <th>0</th>\n",
       "      <td>PFLO:ALL</td>\n",
       "      <td>0</td>\n",
       "      <td>egypt</td>\n",
       "      <td>7</td>\n",
       "      <td>pop_unimproved_rural</td>\n",
       "      <td>299091.209054</td>\n",
       "      <td>299091.209054</td>\n",
       "      <td>0.000000e+00</td>\n",
       "      <td>cb:wali:technical_cost:sanitation:unimp_rural</td>\n",
       "      <td>0.000000e+00</td>\n",
       "    </tr>\n",
       "    <tr>\n",
       "      <th>1</th>\n",
       "      <td>PFLO:ALL</td>\n",
       "      <td>0</td>\n",
       "      <td>egypt</td>\n",
       "      <td>8</td>\n",
       "      <td>pop_unimproved_rural</td>\n",
       "      <td>294340.078493</td>\n",
       "      <td>294340.078493</td>\n",
       "      <td>0.000000e+00</td>\n",
       "      <td>cb:wali:technical_cost:sanitation:unimp_rural</td>\n",
       "      <td>0.000000e+00</td>\n",
       "    </tr>\n",
       "    <tr>\n",
       "      <th>2</th>\n",
       "      <td>PFLO:ALL</td>\n",
       "      <td>0</td>\n",
       "      <td>egypt</td>\n",
       "      <td>9</td>\n",
       "      <td>pop_unimproved_rural</td>\n",
       "      <td>289474.711388</td>\n",
       "      <td>289474.711388</td>\n",
       "      <td>0.000000e+00</td>\n",
       "      <td>cb:wali:technical_cost:sanitation:unimp_rural</td>\n",
       "      <td>0.000000e+00</td>\n",
       "    </tr>\n",
       "    <tr>\n",
       "      <th>3</th>\n",
       "      <td>PFLO:ALL</td>\n",
       "      <td>0</td>\n",
       "      <td>egypt</td>\n",
       "      <td>10</td>\n",
       "      <td>pop_unimproved_rural</td>\n",
       "      <td>284494.629299</td>\n",
       "      <td>284494.629299</td>\n",
       "      <td>0.000000e+00</td>\n",
       "      <td>cb:wali:technical_cost:sanitation:unimp_rural</td>\n",
       "      <td>-0.000000e+00</td>\n",
       "    </tr>\n",
       "    <tr>\n",
       "      <th>4</th>\n",
       "      <td>PFLO:ALL</td>\n",
       "      <td>0</td>\n",
       "      <td>egypt</td>\n",
       "      <td>11</td>\n",
       "      <td>pop_unimproved_rural</td>\n",
       "      <td>279403.968085</td>\n",
       "      <td>279403.968085</td>\n",
       "      <td>0.000000e+00</td>\n",
       "      <td>cb:wali:technical_cost:sanitation:unimp_rural</td>\n",
       "      <td>-0.000000e+00</td>\n",
       "    </tr>\n",
       "    <tr>\n",
       "      <th>...</th>\n",
       "      <td>...</td>\n",
       "      <td>...</td>\n",
       "      <td>...</td>\n",
       "      <td>...</td>\n",
       "      <td>...</td>\n",
       "      <td>...</td>\n",
       "      <td>...</td>\n",
       "      <td>...</td>\n",
       "      <td>...</td>\n",
       "      <td>...</td>\n",
       "    </tr>\n",
       "    <tr>\n",
       "      <th>12042</th>\n",
       "      <td>PFLO:ALL</td>\n",
       "      <td>0</td>\n",
       "      <td>egypt</td>\n",
       "      <td>18</td>\n",
       "      <td>energy_consumption_inen_total</td>\n",
       "      <td>94.184357</td>\n",
       "      <td>94.184357</td>\n",
       "      <td>4.552968e-13</td>\n",
       "      <td>cb:inen:technical_savings:fuel_switch:all_shif...</td>\n",
       "      <td>-3.797176e-08</td>\n",
       "    </tr>\n",
       "    <tr>\n",
       "      <th>12043</th>\n",
       "      <td>PFLO:ALL</td>\n",
       "      <td>0</td>\n",
       "      <td>egypt</td>\n",
       "      <td>19</td>\n",
       "      <td>energy_consumption_inen_total</td>\n",
       "      <td>95.263283</td>\n",
       "      <td>95.263283</td>\n",
       "      <td>9.236022e-13</td>\n",
       "      <td>cb:inen:technical_savings:fuel_switch:all_shif...</td>\n",
       "      <td>-7.702842e-08</td>\n",
       "    </tr>\n",
       "    <tr>\n",
       "      <th>12044</th>\n",
       "      <td>PFLO:ALL</td>\n",
       "      <td>0</td>\n",
       "      <td>egypt</td>\n",
       "      <td>17</td>\n",
       "      <td>energy_consumption_inen_total</td>\n",
       "      <td>112.084928</td>\n",
       "      <td>112.084928</td>\n",
       "      <td>5.394630e-13</td>\n",
       "      <td>cb:inen:technical_cost:efficiency:X_shifted2022</td>\n",
       "      <td>5.394630e-06</td>\n",
       "    </tr>\n",
       "    <tr>\n",
       "      <th>12045</th>\n",
       "      <td>PFLO:ALL</td>\n",
       "      <td>0</td>\n",
       "      <td>egypt</td>\n",
       "      <td>18</td>\n",
       "      <td>energy_consumption_inen_total</td>\n",
       "      <td>111.595269</td>\n",
       "      <td>111.595269</td>\n",
       "      <td>5.394630e-13</td>\n",
       "      <td>cb:inen:technical_cost:efficiency:X_shifted2023</td>\n",
       "      <td>5.394630e-06</td>\n",
       "    </tr>\n",
       "    <tr>\n",
       "      <th>12046</th>\n",
       "      <td>PFLO:ALL</td>\n",
       "      <td>0</td>\n",
       "      <td>egypt</td>\n",
       "      <td>19</td>\n",
       "      <td>energy_consumption_inen_total</td>\n",
       "      <td>112.873645</td>\n",
       "      <td>112.873645</td>\n",
       "      <td>1.094339e-12</td>\n",
       "      <td>cb:inen:technical_cost:efficiency:X_shifted2024</td>\n",
       "      <td>1.094339e-05</td>\n",
       "    </tr>\n",
       "  </tbody>\n",
       "</table>\n",
       "<p>12047 rows × 10 columns</p>\n",
       "</div>"
      ],
      "text/plain": [
       "      strategy_code  future_id region  time_period  \\\n",
       "0          PFLO:ALL          0  egypt            7   \n",
       "1          PFLO:ALL          0  egypt            8   \n",
       "2          PFLO:ALL          0  egypt            9   \n",
       "3          PFLO:ALL          0  egypt           10   \n",
       "4          PFLO:ALL          0  egypt           11   \n",
       "...             ...        ...    ...          ...   \n",
       "12042      PFLO:ALL          0  egypt           18   \n",
       "12043      PFLO:ALL          0  egypt           19   \n",
       "12044      PFLO:ALL          0  egypt           17   \n",
       "12045      PFLO:ALL          0  egypt           18   \n",
       "12046      PFLO:ALL          0  egypt           19   \n",
       "\n",
       "                 difference_variable  variable_value_baseline  \\\n",
       "0               pop_unimproved_rural            299091.209054   \n",
       "1               pop_unimproved_rural            294340.078493   \n",
       "2               pop_unimproved_rural            289474.711388   \n",
       "3               pop_unimproved_rural            284494.629299   \n",
       "4               pop_unimproved_rural            279403.968085   \n",
       "...                              ...                      ...   \n",
       "12042  energy_consumption_inen_total                94.184357   \n",
       "12043  energy_consumption_inen_total                95.263283   \n",
       "12044  energy_consumption_inen_total               112.084928   \n",
       "12045  energy_consumption_inen_total               111.595269   \n",
       "12046  energy_consumption_inen_total               112.873645   \n",
       "\n",
       "       variable_value_pathway  difference_value  \\\n",
       "0               299091.209054      0.000000e+00   \n",
       "1               294340.078493      0.000000e+00   \n",
       "2               289474.711388      0.000000e+00   \n",
       "3               284494.629299      0.000000e+00   \n",
       "4               279403.968085      0.000000e+00   \n",
       "...                       ...               ...   \n",
       "12042               94.184357      4.552968e-13   \n",
       "12043               95.263283      9.236022e-13   \n",
       "12044              112.084928      5.394630e-13   \n",
       "12045              111.595269      5.394630e-13   \n",
       "12046              112.873645      1.094339e-12   \n",
       "\n",
       "                                                variable         value  \n",
       "0          cb:wali:technical_cost:sanitation:unimp_rural  0.000000e+00  \n",
       "1          cb:wali:technical_cost:sanitation:unimp_rural  0.000000e+00  \n",
       "2          cb:wali:technical_cost:sanitation:unimp_rural  0.000000e+00  \n",
       "3          cb:wali:technical_cost:sanitation:unimp_rural -0.000000e+00  \n",
       "4          cb:wali:technical_cost:sanitation:unimp_rural -0.000000e+00  \n",
       "...                                                  ...           ...  \n",
       "12042  cb:inen:technical_savings:fuel_switch:all_shif... -3.797176e-08  \n",
       "12043  cb:inen:technical_savings:fuel_switch:all_shif... -7.702842e-08  \n",
       "12044    cb:inen:technical_cost:efficiency:X_shifted2022  5.394630e-06  \n",
       "12045    cb:inen:technical_cost:efficiency:X_shifted2023  5.394630e-06  \n",
       "12046    cb:inen:technical_cost:efficiency:X_shifted2024  1.094339e-05  \n",
       "\n",
       "[12047 rows x 10 columns]"
      ]
     },
     "execution_count": 47,
     "metadata": {},
     "output_type": "execute_result"
    }
   ],
   "source": [
    "results_all_pp_shifted"
   ]
  },
  {
   "cell_type": "markdown",
   "id": "4ee32373",
   "metadata": {},
   "source": [
    "## Check for NaNs and Infs and DF Cleaning"
   ]
  },
  {
   "cell_type": "code",
   "execution_count": 49,
   "id": "a68cc834",
   "metadata": {},
   "outputs": [
    {
     "data": {
      "text/plain": [
       "np.False_"
      ]
     },
     "execution_count": 49,
     "metadata": {},
     "output_type": "execute_result"
    }
   ],
   "source": [
    "# check nans\n",
    "results_all_pp_shifted.value.isna().any()"
   ]
  },
  {
   "cell_type": "code",
   "execution_count": 50,
   "id": "83c42f52",
   "metadata": {},
   "outputs": [
    {
     "data": {
      "text/plain": [
       "np.False_"
      ]
     },
     "execution_count": 50,
     "metadata": {},
     "output_type": "execute_result"
    }
   ],
   "source": [
    "# check -inf or inf values\n",
    "results_all_pp_shifted.value.isin([float('inf'), float('-inf')]).any()"
   ]
  },
  {
   "cell_type": "markdown",
   "id": "af638605",
   "metadata": {},
   "source": [
    "## Save"
   ]
  },
  {
   "cell_type": "code",
   "execution_count": 51,
   "id": "81a6b865",
   "metadata": {},
   "outputs": [],
   "source": [
    "results_all_pp_shifted.to_csv(os.path.join(OUTPUT_CB_PATH, f\"cb_{RUN_ID}.csv\"), index = False)"
   ]
  },
  {
   "cell_type": "code",
   "execution_count": null,
   "id": "0571d61b",
   "metadata": {},
   "outputs": [],
   "source": []
  }
 ],
 "metadata": {
  "kernelspec": {
   "display_name": "ssp_egypt_env",
   "language": "python",
   "name": "python3"
  },
  "language_info": {
   "codemirror_mode": {
    "name": "ipython",
    "version": 3
   },
   "file_extension": ".py",
   "mimetype": "text/x-python",
   "name": "python",
   "nbconvert_exporter": "python",
   "pygments_lexer": "ipython3",
   "version": "3.11.13"
  }
 },
 "nbformat": 4,
 "nbformat_minor": 5
}
